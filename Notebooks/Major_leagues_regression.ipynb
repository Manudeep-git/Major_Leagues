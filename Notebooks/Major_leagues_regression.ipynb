{
 "cells": [
  {
   "cell_type": "markdown",
   "metadata": {},
   "source": [
    "### Importing Libraries"
   ]
  },
  {
   "cell_type": "code",
   "execution_count": 1,
   "metadata": {},
   "outputs": [],
   "source": [
    "import pandas as pd\n",
    "import numpy as np\n",
    "import seaborn as sns\n",
    "\n",
    "import matplotlib.pyplot as plt\n",
    "\n",
    "%matplotlib inline"
   ]
  },
  {
   "cell_type": "markdown",
   "metadata": {},
   "source": [
    "### Importing the data"
   ]
  },
  {
   "cell_type": "code",
   "execution_count": 2,
   "metadata": {},
   "outputs": [
    {
     "data": {
      "text/html": [
       "<div>\n",
       "<style scoped>\n",
       "    .dataframe tbody tr th:only-of-type {\n",
       "        vertical-align: middle;\n",
       "    }\n",
       "\n",
       "    .dataframe tbody tr th {\n",
       "        vertical-align: top;\n",
       "    }\n",
       "\n",
       "    .dataframe thead th {\n",
       "        text-align: right;\n",
       "    }\n",
       "</style>\n",
       "<table border=\"1\" class=\"dataframe\">\n",
       "  <thead>\n",
       "    <tr style=\"text-align: right;\">\n",
       "      <th></th>\n",
       "      <th>spi1</th>\n",
       "      <th>spi2</th>\n",
       "      <th>prob1</th>\n",
       "      <th>prob2</th>\n",
       "      <th>probtie</th>\n",
       "      <th>proj_score1</th>\n",
       "      <th>proj_score2</th>\n",
       "      <th>importance1</th>\n",
       "      <th>importance2</th>\n",
       "      <th>score1</th>\n",
       "      <th>...</th>\n",
       "      <th>Team2__Western Sydney FC</th>\n",
       "      <th>Team2__Western United</th>\n",
       "      <th>Team2__Willem II</th>\n",
       "      <th>Team2__Wolfsberger AC</th>\n",
       "      <th>Team2__Wolverhampton</th>\n",
       "      <th>Team2__Wuhan Zall</th>\n",
       "      <th>Team2__Wycombe Wanderers</th>\n",
       "      <th>Team2__Würzburger Kickers</th>\n",
       "      <th>Team2__Young Boys</th>\n",
       "      <th>Team2__Zenit St Petersburg</th>\n",
       "    </tr>\n",
       "  </thead>\n",
       "  <tbody>\n",
       "    <tr>\n",
       "      <th>0</th>\n",
       "      <td>48.22</td>\n",
       "      <td>37.83</td>\n",
       "      <td>0.5755</td>\n",
       "      <td>0.1740</td>\n",
       "      <td>0.2505</td>\n",
       "      <td>1.75</td>\n",
       "      <td>0.84</td>\n",
       "      <td>45.9</td>\n",
       "      <td>22.1</td>\n",
       "      <td>1.0</td>\n",
       "      <td>...</td>\n",
       "      <td>0</td>\n",
       "      <td>0</td>\n",
       "      <td>0</td>\n",
       "      <td>0</td>\n",
       "      <td>0</td>\n",
       "      <td>0</td>\n",
       "      <td>0</td>\n",
       "      <td>0</td>\n",
       "      <td>0</td>\n",
       "      <td>0</td>\n",
       "    </tr>\n",
       "    <tr>\n",
       "      <th>1</th>\n",
       "      <td>39.81</td>\n",
       "      <td>60.08</td>\n",
       "      <td>0.2387</td>\n",
       "      <td>0.5203</td>\n",
       "      <td>0.2410</td>\n",
       "      <td>1.22</td>\n",
       "      <td>1.89</td>\n",
       "      <td>25.6</td>\n",
       "      <td>63.4</td>\n",
       "      <td>0.0</td>\n",
       "      <td>...</td>\n",
       "      <td>0</td>\n",
       "      <td>0</td>\n",
       "      <td>0</td>\n",
       "      <td>0</td>\n",
       "      <td>0</td>\n",
       "      <td>0</td>\n",
       "      <td>0</td>\n",
       "      <td>0</td>\n",
       "      <td>0</td>\n",
       "      <td>0</td>\n",
       "    </tr>\n",
       "    <tr>\n",
       "      <th>2</th>\n",
       "      <td>65.59</td>\n",
       "      <td>39.99</td>\n",
       "      <td>0.7832</td>\n",
       "      <td>0.0673</td>\n",
       "      <td>0.1495</td>\n",
       "      <td>2.58</td>\n",
       "      <td>0.62</td>\n",
       "      <td>77.1</td>\n",
       "      <td>28.8</td>\n",
       "      <td>3.0</td>\n",
       "      <td>...</td>\n",
       "      <td>0</td>\n",
       "      <td>0</td>\n",
       "      <td>0</td>\n",
       "      <td>0</td>\n",
       "      <td>0</td>\n",
       "      <td>0</td>\n",
       "      <td>0</td>\n",
       "      <td>0</td>\n",
       "      <td>0</td>\n",
       "      <td>0</td>\n",
       "    </tr>\n",
       "    <tr>\n",
       "      <th>3</th>\n",
       "      <td>32.25</td>\n",
       "      <td>54.82</td>\n",
       "      <td>0.2276</td>\n",
       "      <td>0.5226</td>\n",
       "      <td>0.2498</td>\n",
       "      <td>1.10</td>\n",
       "      <td>1.79</td>\n",
       "      <td>35.8</td>\n",
       "      <td>58.9</td>\n",
       "      <td>0.0</td>\n",
       "      <td>...</td>\n",
       "      <td>0</td>\n",
       "      <td>0</td>\n",
       "      <td>0</td>\n",
       "      <td>0</td>\n",
       "      <td>0</td>\n",
       "      <td>0</td>\n",
       "      <td>0</td>\n",
       "      <td>0</td>\n",
       "      <td>0</td>\n",
       "      <td>0</td>\n",
       "    </tr>\n",
       "    <tr>\n",
       "      <th>4</th>\n",
       "      <td>38.24</td>\n",
       "      <td>40.45</td>\n",
       "      <td>0.4403</td>\n",
       "      <td>0.2932</td>\n",
       "      <td>0.2665</td>\n",
       "      <td>1.57</td>\n",
       "      <td>1.24</td>\n",
       "      <td>26.2</td>\n",
       "      <td>21.3</td>\n",
       "      <td>2.0</td>\n",
       "      <td>...</td>\n",
       "      <td>0</td>\n",
       "      <td>0</td>\n",
       "      <td>0</td>\n",
       "      <td>0</td>\n",
       "      <td>0</td>\n",
       "      <td>0</td>\n",
       "      <td>0</td>\n",
       "      <td>0</td>\n",
       "      <td>0</td>\n",
       "      <td>0</td>\n",
       "    </tr>\n",
       "  </tbody>\n",
       "</table>\n",
       "<p>5 rows × 767 columns</p>\n",
       "</div>"
      ],
      "text/plain": [
       "    spi1   spi2   prob1   prob2  probtie  proj_score1  proj_score2  \\\n",
       "0  48.22  37.83  0.5755  0.1740   0.2505         1.75         0.84   \n",
       "1  39.81  60.08  0.2387  0.5203   0.2410         1.22         1.89   \n",
       "2  65.59  39.99  0.7832  0.0673   0.1495         2.58         0.62   \n",
       "3  32.25  54.82  0.2276  0.5226   0.2498         1.10         1.79   \n",
       "4  38.24  40.45  0.4403  0.2932   0.2665         1.57         1.24   \n",
       "\n",
       "   importance1  importance2  score1  ...  Team2__Western Sydney FC  \\\n",
       "0         45.9         22.1     1.0  ...                         0   \n",
       "1         25.6         63.4     0.0  ...                         0   \n",
       "2         77.1         28.8     3.0  ...                         0   \n",
       "3         35.8         58.9     0.0  ...                         0   \n",
       "4         26.2         21.3     2.0  ...                         0   \n",
       "\n",
       "   Team2__Western United  Team2__Willem II  Team2__Wolfsberger AC  \\\n",
       "0                      0                 0                      0   \n",
       "1                      0                 0                      0   \n",
       "2                      0                 0                      0   \n",
       "3                      0                 0                      0   \n",
       "4                      0                 0                      0   \n",
       "\n",
       "   Team2__Wolverhampton  Team2__Wuhan Zall  Team2__Wycombe Wanderers  \\\n",
       "0                     0                  0                         0   \n",
       "1                     0                  0                         0   \n",
       "2                     0                  0                         0   \n",
       "3                     0                  0                         0   \n",
       "4                     0                  0                         0   \n",
       "\n",
       "   Team2__Würzburger Kickers  Team2__Young Boys  Team2__Zenit St Petersburg  \n",
       "0                          0                  0                           0  \n",
       "1                          0                  0                           0  \n",
       "2                          0                  0                           0  \n",
       "3                          0                  0                           0  \n",
       "4                          0                  0                           0  \n",
       "\n",
       "[5 rows x 767 columns]"
      ]
     },
     "execution_count": 2,
     "metadata": {},
     "output_type": "execute_result"
    }
   ],
   "source": [
    "data=pd.read_csv('../data/train_cleaned.csv',)\n",
    "data.head()"
   ]
  },
  {
   "cell_type": "markdown",
   "metadata": {},
   "source": [
    "#### Segregating variables: Independent and Dependent Variables"
   ]
  },
  {
   "cell_type": "code",
   "execution_count": 3,
   "metadata": {},
   "outputs": [],
   "source": [
    "X=data.drop(columns=['score1','score2'],axis=1)\n",
    "Y1=data.score1\n",
    "Y2=data.score2"
   ]
  },
  {
   "cell_type": "code",
   "execution_count": 4,
   "metadata": {},
   "outputs": [],
   "source": [
    "##Importing the train test split function\n",
    "from sklearn.model_selection import train_test_split\n",
    "train_X1,test_X1,train_Y1,test_Y1 = train_test_split(X,Y1, random_state = 56)\n",
    "train_X2,test_X2,train_Y2,test_Y2 = train_test_split(X,Y2, random_state = 56)"
   ]
  },
  {
   "cell_type": "code",
   "execution_count": 5,
   "metadata": {},
   "outputs": [
    {
     "data": {
      "text/plain": [
       "((1343, 765), (448, 765))"
      ]
     },
     "execution_count": 5,
     "metadata": {},
     "output_type": "execute_result"
    }
   ],
   "source": [
    "#we will get the same shape for train_X2, test_X2\n",
    "train_X1.shape,test_X1.shape"
   ]
  },
  {
   "cell_type": "code",
   "execution_count": 6,
   "metadata": {},
   "outputs": [
    {
     "data": {
      "text/plain": [
       "((1343,), (448,))"
      ]
     },
     "execution_count": 6,
     "metadata": {},
     "output_type": "execute_result"
    }
   ],
   "source": [
    "train_Y1.shape,test_Y1.shape"
   ]
  },
  {
   "cell_type": "markdown",
   "metadata": {},
   "source": [
    "### 1. Implementing Linear Regression"
   ]
  },
  {
   "cell_type": "markdown",
   "metadata": {},
   "source": [
    "#### Score1"
   ]
  },
  {
   "cell_type": "code",
   "execution_count": 7,
   "metadata": {},
   "outputs": [],
   "source": [
    "from sklearn.linear_model import LinearRegression as LR\n",
    "from sklearn.metrics import mean_squared_error as mse\n",
    "from sklearn.metrics import mean_absolute_error as mae"
   ]
  },
  {
   "cell_type": "code",
   "execution_count": 8,
   "metadata": {},
   "outputs": [
    {
     "name": "stdout",
     "output_type": "stream",
     "text": [
      "Linear Regression model Accuracy is: 97.06915598937836\n"
     ]
    }
   ],
   "source": [
    "lr = LR(normalize=True)\n",
    "lr.fit(train_X1,train_Y1)\n",
    "y_pred_1=lr.predict(test_X1)\n",
    "print('Linear Regression model Accuracy is: '+str(lr.score(test_X1,test_Y1)*100))"
   ]
  },
  {
   "cell_type": "code",
   "execution_count": 9,
   "metadata": {},
   "outputs": [
    {
     "name": "stdout",
     "output_type": "stream",
     "text": [
      "Training Mean Squared Error 1.0557449586699016e-29\n"
     ]
    }
   ],
   "source": [
    "# Predicting over the Train Set and calculating error\n",
    "train_predict = lr.predict(train_X1)\n",
    "k = mse(train_predict, train_Y1)\n",
    "print('Training Mean Squared Error', k )"
   ]
  },
  {
   "cell_type": "code",
   "execution_count": 10,
   "metadata": {},
   "outputs": [
    {
     "name": "stdout",
     "output_type": "stream",
     "text": [
      "Test Mean Squared Error 0.04356487939337396\n"
     ]
    }
   ],
   "source": [
    "# Predicting over the Test Set and calculating error\n",
    "test_predict = lr.predict(test_X1)\n",
    "k = mse(test_predict, test_Y1)\n",
    "print('Test Mean Squared Error', k )"
   ]
  },
  {
   "cell_type": "markdown",
   "metadata": {},
   "source": [
    "We can observe that there is not much significant  deviation between Train error and Test error"
   ]
  },
  {
   "cell_type": "markdown",
   "metadata": {},
   "source": [
    "#### Score2"
   ]
  },
  {
   "cell_type": "code",
   "execution_count": 11,
   "metadata": {},
   "outputs": [
    {
     "name": "stdout",
     "output_type": "stream",
     "text": [
      "Linear Regression model Accuracy is: 98.94831606350198\n"
     ]
    }
   ],
   "source": [
    "lr = LR(normalize=True)\n",
    "lr.fit(train_X2,train_Y2)\n",
    "y_pred_2=lr.predict(test_X1)\n",
    "print('Linear Regression model Accuracy is: '+str(lr.score(test_X2,test_Y2)*100))"
   ]
  },
  {
   "cell_type": "code",
   "execution_count": 12,
   "metadata": {},
   "outputs": [
    {
     "name": "stdout",
     "output_type": "stream",
     "text": [
      "Training Mean Squared Error 4.1440755487443436e-30\n"
     ]
    }
   ],
   "source": [
    "# Predicting over the Train Set and calculating error\n",
    "train_predict = lr.predict(train_X2)\n",
    "k = mse(train_predict, train_Y2)\n",
    "print('Training Mean Squared Error', k )"
   ]
  },
  {
   "cell_type": "code",
   "execution_count": 13,
   "metadata": {},
   "outputs": [
    {
     "name": "stdout",
     "output_type": "stream",
     "text": [
      "Test Mean Squared Error 0.014671720318663272\n"
     ]
    }
   ],
   "source": [
    "# Predicting over the Test Set and calculating error\n",
    "test_predict = lr.predict(test_X2)\n",
    "k = mse(test_predict, test_Y2)\n",
    "print('Test Mean Squared Error', k )"
   ]
  },
  {
   "cell_type": "markdown",
   "metadata": {},
   "source": [
    "We observe that mean squared error is significantly low on Test as compared to Train, In the same way we can calculate mean absolute error"
   ]
  },
  {
   "cell_type": "markdown",
   "metadata": {},
   "source": [
    "### Model Interpretability"
   ]
  },
  {
   "cell_type": "markdown",
   "metadata": {},
   "source": [
    "Linear Regression assumes lot of things, some of these are <br>\n",
    "1.Linear relationship(which we evaluated while feature engineering)<br>\n",
    "2.There shouldn't be any correlation between error terms<br>\n",
    "3.Residuals must have constant variance <br>\n",
    "4.Multi collinearity between independent variabels shouldn't be there, it works but model is volatile( We can use VIF to check these where we calculate the R-square value)<br>\n",
    "5.If we get a good model, R-square value is less"
   ]
  },
  {
   "cell_type": "code",
   "execution_count": 14,
   "metadata": {},
   "outputs": [
    {
     "data": {
      "text/html": [
       "<div>\n",
       "<style scoped>\n",
       "    .dataframe tbody tr th:only-of-type {\n",
       "        vertical-align: middle;\n",
       "    }\n",
       "\n",
       "    .dataframe tbody tr th {\n",
       "        vertical-align: top;\n",
       "    }\n",
       "\n",
       "    .dataframe thead th {\n",
       "        text-align: right;\n",
       "    }\n",
       "</style>\n",
       "<table border=\"1\" class=\"dataframe\">\n",
       "  <thead>\n",
       "    <tr style=\"text-align: right;\">\n",
       "      <th></th>\n",
       "      <th>fitted values</th>\n",
       "      <th>predicted values</th>\n",
       "      <th>residuals</th>\n",
       "    </tr>\n",
       "  </thead>\n",
       "  <tbody>\n",
       "    <tr>\n",
       "      <th>1210</th>\n",
       "      <td>1.0</td>\n",
       "      <td>1.000000</td>\n",
       "      <td>1.332268e-15</td>\n",
       "    </tr>\n",
       "    <tr>\n",
       "      <th>1782</th>\n",
       "      <td>2.0</td>\n",
       "      <td>1.885431</td>\n",
       "      <td>1.145686e-01</td>\n",
       "    </tr>\n",
       "    <tr>\n",
       "      <th>816</th>\n",
       "      <td>1.0</td>\n",
       "      <td>1.000000</td>\n",
       "      <td>3.552714e-15</td>\n",
       "    </tr>\n",
       "    <tr>\n",
       "      <th>1163</th>\n",
       "      <td>2.0</td>\n",
       "      <td>2.000000</td>\n",
       "      <td>3.774758e-15</td>\n",
       "    </tr>\n",
       "    <tr>\n",
       "      <th>153</th>\n",
       "      <td>1.0</td>\n",
       "      <td>1.000000</td>\n",
       "      <td>-2.664535e-15</td>\n",
       "    </tr>\n",
       "  </tbody>\n",
       "</table>\n",
       "</div>"
      ],
      "text/plain": [
       "      fitted values  predicted values     residuals\n",
       "1210            1.0          1.000000  1.332268e-15\n",
       "1782            2.0          1.885431  1.145686e-01\n",
       "816             1.0          1.000000  3.552714e-15\n",
       "1163            2.0          2.000000  3.774758e-15\n",
       "153             1.0          1.000000 -2.664535e-15"
      ]
     },
     "execution_count": 14,
     "metadata": {},
     "output_type": "execute_result"
    }
   ],
   "source": [
    "# Arranging and calculating the Residuals for score1\n",
    "residuals = pd.DataFrame({\n",
    "    'fitted values' : test_Y1,\n",
    "    'predicted values' : y_pred_1,\n",
    "})\n",
    "\n",
    "residuals['residuals'] = residuals['fitted values'] - residuals['predicted values']\n",
    "residuals.head()"
   ]
  },
  {
   "cell_type": "code",
   "execution_count": 15,
   "metadata": {},
   "outputs": [
    {
     "data": {
      "text/plain": [
       "(448, 3)"
      ]
     },
     "execution_count": 15,
     "metadata": {},
     "output_type": "execute_result"
    }
   ],
   "source": [
    "residuals.shape"
   ]
  },
  {
   "cell_type": "markdown",
   "metadata": {},
   "source": [
    "### Plotting residual curve (Is there constant Variance)"
   ]
  },
  {
   "cell_type": "code",
   "execution_count": 16,
   "metadata": {},
   "outputs": [
    {
     "data": {
      "text/plain": [
       "<matplotlib.legend.Legend at 0x16eec929128>"
      ]
     },
     "execution_count": 16,
     "metadata": {},
     "output_type": "execute_result"
    },
    {
     "data": {
      "image/png": "[encoded data removed]",
      "text/plain": [
       "<Figure size 1200x720 with 1 Axes>"
      ]
     },
     "metadata": {},
     "output_type": "display_data"
    }
   ],
   "source": [
    "plt.figure(figsize=(10, 6), dpi=120, facecolor='w', edgecolor='b')\n",
    "f = range(0,448)\n",
    "k = [0 for i in range(0,448)]\n",
    "plt.scatter( f, residuals.residuals[:], label = 'residuals')\n",
    "plt.plot( f, k , color = 'red', label = 'regression line' )\n",
    "plt.xlabel('fitted points ')\n",
    "plt.ylabel('residuals')\n",
    "plt.title('Residual plot')\n",
    "plt.ylim(-4000, 4000)\n",
    "plt.legend()"
   ]
  },
  {
   "cell_type": "markdown",
   "metadata": {},
   "source": [
    "The Residual plot clearly Looks Constant, i.e. the the variance of the error across the dataset is nearly constant."
   ]
  },
  {
   "cell_type": "markdown",
   "metadata": {},
   "source": [
    "### Checking Distribution of Residuals"
   ]
  },
  {
   "cell_type": "code",
   "execution_count": 17,
   "metadata": {},
   "outputs": [
    {
     "data": {
      "image/png": "[encoded data removed]",
      "text/plain": [
       "<Figure size 1200x720 with 1 Axes>"
      ]
     },
     "metadata": {},
     "output_type": "display_data"
    }
   ],
   "source": [
    "# Histogram for distribution\n",
    "plt.figure(figsize=(10, 6), dpi=120, facecolor='w', edgecolor='b')\n",
    "plt.hist(residuals.residuals, bins = 150)\n",
    "plt.xlabel('Error')\n",
    "plt.ylabel('Frequency')\n",
    "plt.title('Distribution of Error Terms')\n",
    "plt.show()"
   ]
  },
  {
   "cell_type": "markdown",
   "metadata": {},
   "source": [
    "Distribution is nearly normal, there are some outliers though, We can use th <b>Q-Q</b> plot to validate this"
   ]
  },
  {
   "cell_type": "markdown",
   "metadata": {},
   "source": [
    "### 2. RandomForest Regressor"
   ]
  },
  {
   "cell_type": "code",
   "execution_count": 21,
   "metadata": {},
   "outputs": [
    {
     "name": "stdout",
     "output_type": "stream",
     "text": [
      "Random Forest Regressor model Accuracy is: 99.62427899119102\n"
     ]
    }
   ],
   "source": [
    "#for score1\n",
    "from sklearn.ensemble import RandomForestRegressor\n",
    "RM=RandomForestRegressor(random_state=4)\n",
    "RM.fit(train_X1,train_Y1)\n",
    "y_pred_r1=RM.predict(test_X1)\n",
    "RM.score(test_X1,test_Y1)\n",
    "print('Random Forest Regressor model Accuracy is: '+str(RM.score(test_X1,test_Y1)*100))"
   ]
  },
  {
   "cell_type": "code",
   "execution_count": 22,
   "metadata": {},
   "outputs": [
    {
     "name": "stdout",
     "output_type": "stream",
     "text": [
      "Random Forest Regressor model Accuracy is: 99.75890855583651\n"
     ]
    }
   ],
   "source": [
    "#for score2\n",
    "from sklearn.ensemble import RandomForestRegressor\n",
    "RM=RandomForestRegressor(random_state=4)\n",
    "RM.fit(train_X2,train_Y2)\n",
    "y_pred_r2=RM.predict(test_X2)\n",
    "RM.score(test_X2,test_Y2)\n",
    "print('Random Forest Regressor model Accuracy is: '+str(RM.score(test_X2,test_Y2)*100))"
   ]
  },
  {
   "cell_type": "code",
   "execution_count": 23,
   "metadata": {},
   "outputs": [
    {
     "name": "stdout",
     "output_type": "stream",
     "text": [
      "Mean_Absolute_error: 0.00544642857142857\n"
     ]
    }
   ],
   "source": [
    "#calculating mean absolute error for Randomforest regressor for score1\n",
    "print(\"Mean_Absolute_error:\",str(mae(y_pred_r1,test_Y1)))"
   ]
  },
  {
   "cell_type": "code",
   "execution_count": 24,
   "metadata": {},
   "outputs": [
    {
     "name": "stdout",
     "output_type": "stream",
     "text": [
      "Mean_Absolute_error: 0.005937500000000003\n"
     ]
    }
   ],
   "source": [
    "#calculating mean absolute error for Randomforest regressor for score2\n",
    "print(\"Mean_Absolute_error:\",str(mae(y_pred_r2,test_Y2)))"
   ]
  },
  {
   "cell_type": "markdown",
   "metadata": {},
   "source": [
    "### Conclusion"
   ]
  },
  {
   "cell_type": "markdown",
   "metadata": {},
   "source": [
    "We were able to get accurate models using Linear regression and Random forest Regression, Linear regression model is interpreted and some of the assumptions are validated with respect to all the features, I tried to calcluate Variance inflation factor for Linear regression but there were some errors while implementing it.<br>\n",
    "\n",
    "Mean absolute error and mean sqaured error are quite low especially for random forest regression and overall we can conlude it's a better model"
   ]
  }
 ],
 "metadata": {
  "kernelspec": {
   "display_name": "Python 3",
   "language": "python",
   "name": "python3"
  },
  "language_info": {
   "codemirror_mode": {
    "name": "ipython",
    "version": 3
   },
   "file_extension": ".py",
   "mimetype": "text/x-python",
   "name": "python",
   "nbconvert_exporter": "python",
   "pygments_lexer": "ipython3",
   "version": "3.7.3"
  }
 },
 "nbformat": 4,
 "nbformat_minor": 2
}
